{
 "cells": [
  {
   "cell_type": "code",
   "execution_count": 26,
   "metadata": {},
   "outputs": [],
   "source": [
    "import scanpy as sc\n",
    "import scvelo as scv\n",
    "import numpy as np\n",
    "from sklearn.neighbors import kneighbors_graph\n",
    "from scipy.sparse.csgraph import dijkstra\n",
    "from utils import color_keys\n",
    "import pandas as pd"
   ]
  },
  {
   "cell_type": "code",
   "execution_count": 27,
   "metadata": {},
   "outputs": [
    {
     "name": "stdout",
     "output_type": "stream",
     "text": [
      "Normalized count data: X, spliced, unspliced.\n",
      "computing neighbors\n",
      "    finished (0:00:00) --> added \n",
      "    'distances' and 'connectivities', weighted adjacency matrices (adata.obsp)\n",
      "computing moments based on connectivities\n",
      "    finished (0:00:03) --> added \n",
      "    'Ms' and 'Mu', moments of un/spliced abundances (adata.layers)\n"
     ]
    }
   ],
   "source": [
    "gastrulation = sc.read_h5ad(\"gastr_full_separate_smoothing/gastrulation_processed.h5ad\")\n",
    "pancreas = scv.datasets.pancreas()\n",
    "scv.pp.moments(pancreas)\n"
   ]
  },
  {
   "cell_type": "code",
   "execution_count": 18,
   "metadata": {},
   "outputs": [
    {
     "name": "stdout",
     "output_type": "stream",
     "text": [
      "Pancreas shape: (3696, 2000)\n",
      "Mu shape: (3696, 2000)\n",
      "Ms shape: (3696, 2000)\n",
      "Unspliced shape: (3696, 2000)\n",
      "Spliced shape: (3696, 2000)\n"
     ]
    }
   ],
   "source": [
    "# Assuming 'pancreas' and 'gastrulation' are loaded AnnData objects\n",
    "gastrulation_genes = gastrulation.var_names  # All genes in gastrulation\n",
    "\n",
    "# Initialize new matrices filled with zeros for unspliced, spliced, and overall data\n",
    "new_pancreas_X = np.zeros((pancreas.n_obs, len(gastrulation_genes)))\n",
    "new_pancreas_Mu = np.zeros((pancreas.n_obs, len(gastrulation_genes)))\n",
    "new_pancreas_Ms = np.zeros((pancreas.n_obs, len(gastrulation_genes)))\n",
    "\n",
    "# Use AnnData.to_df for converting the data into DataFrames\n",
    "pancreas_X_df = pancreas.to_df()\n",
    "pancreas_Mu_df = pancreas.to_df(layer=\"Mu\")\n",
    "pancreas_Ms_df = pancreas.to_df(layer=\"Ms\")\n",
    "\n",
    "# Align the data by filling the values for genes that are common\n",
    "common_genes = pancreas.var_names.intersection(gastrulation_genes)\n",
    "new_pancreas_X[:, gastrulation_genes.isin(common_genes)] = pancreas_X_df[common_genes].values\n",
    "new_pancreas_Mu[:, gastrulation_genes.isin(common_genes)] = pancreas_Mu_df[common_genes].values\n",
    "new_pancreas_Ms[:, gastrulation_genes.isin(common_genes)] = pancreas_Ms_df[common_genes].values\n",
    "\n",
    "# Create a new AnnData object with the aligned and padded data\n",
    "new_pancreas = sc.AnnData(\n",
    "    X=new_pancreas_X,\n",
    "    obs=pancreas.obs,\n",
    "    var=pd.DataFrame(index=gastrulation_genes)\n",
    ")\n",
    "\n",
    "# Add the aligned unspliced and spliced data as layers\n",
    "new_pancreas.layers[\"Mu\"] = new_pancreas_Mu\n",
    "new_pancreas.layers[\"Ms\"] = new_pancreas_Ms\n",
    "new_pancreas.layers[\"unspliced\"] = new_pancreas_Mu  # Add unspliced layer\n",
    "new_pancreas.layers[\"spliced\"] = new_pancreas_Ms  # Add spliced layer\n",
    "\n",
    "# Copy other necessary metadata from the original pancreas dataset if needed\n",
    "new_pancreas.uns = pancreas.uns  # Copy uns if needed\n",
    "new_pancreas.obsm = pancreas.obsm  # Copy obsm if needed\n",
    "new_pancreas.varm = pancreas.varm  # Copy varm if needed\n",
    "\n",
    "# Update 'pancreas' variable if you want to replace the original with the new aligned version\n",
    "pancreas = new_pancreas.copy()\n",
    "\n",
    "# Verify alignment\n",
    "print(\"Pancreas shape:\", pancreas.shape)\n",
    "print(\"Mu shape:\", pancreas.layers['Mu'].shape)\n",
    "print(\"Ms shape:\", pancreas.layers['Ms'].shape)\n",
    "print(\"Unspliced shape:\", pancreas.layers['unspliced'].shape)\n",
    "print(\"Spliced shape:\", pancreas.layers['spliced'].shape)\n"
   ]
  },
  {
   "cell_type": "code",
   "execution_count": 19,
   "metadata": {},
   "outputs": [
    {
     "data": {
      "text/plain": [
       "True"
      ]
     },
     "execution_count": 19,
     "metadata": {},
     "output_type": "execute_result"
    }
   ],
   "source": [
    "(gastrulation.var_names == pancreas.var_names).all()"
   ]
  },
  {
   "cell_type": "code",
   "execution_count": 8,
   "metadata": {},
   "outputs": [],
   "source": [
    "pancreas.uns[\"gastrulation_var_names\"] = np.array(gastrulation.var_names)"
   ]
  },
  {
   "cell_type": "code",
   "execution_count": 20,
   "metadata": {},
   "outputs": [],
   "source": [
    "def compute_bin_ranges(data, num_bins):\n",
    "    \"\"\"\n",
    "    Compute bin edges for each gene based on expression values.\n",
    "    \"\"\"\n",
    "    max_values = np.max(data, axis=0)\n",
    "    bin_ranges = max_values / num_bins\n",
    "    return bin_ranges  # Shape: (num_genes,)\n",
    "\n",
    "# Assuming adata.layers[\"Mu\"] and adata.layers[\"Ms\"] are available\n",
    "combined_expression = np.concatenate([gastrulation.layers[\"Mu\"], gastrulation.layers[\"Ms\"]], axis=1)\n",
    "bin_ranges = compute_bin_ranges(combined_expression, num_bins=50)\n",
    "\n",
    "# Save bin_ranges for later use\n",
    "pancreas.uns[\"bin_ranges\"] = bin_ranges"
   ]
  },
  {
   "cell_type": "code",
   "execution_count": 21,
   "metadata": {},
   "outputs": [],
   "source": [
    "neighbors=15\n",
    "indices = np.zeros((pancreas.shape[0], neighbors+1))\n",
    "u = pancreas.layers[\"unspliced\"]\n",
    "s = pancreas.layers[\"spliced\"]\n",
    "u_s = np.concatenate([u, s], axis=1)\n",
    "# Step 1: Create a nearest-neighbor graph (Euclidean distances for the graph construction)\n",
    "knn_graph = kneighbors_graph(u_s, n_neighbors=neighbors, mode='distance', include_self=False)\n",
    "\n",
    "# Step 2: Compute the geodesic distances using Dijkstra's algorithm\n",
    "# This returns the shortest paths between all pairs of points\n",
    "geodesic_distances = dijkstra(csgraph=knn_graph, directed=False, return_predecessors=False)\n",
    "\n",
    "# For each cell, find its nearest neighbors based on geodesic distances\n",
    "nearest_neighbors = []\n",
    "for i in range(geodesic_distances.shape[0]):\n",
    "    sorted_indices = np.argsort(geodesic_distances[i])\n",
    "    nearest_neighbors.append(sorted_indices[:neighbors + 1])  # Include the cell itself\n",
    "\n",
    "local_nearest_neighbor_matrix = np.array(nearest_neighbors)\n",
    "\n",
    "indices = local_nearest_neighbor_matrix\n",
    "\n",
    "pancreas.uns[\"indices\"] = np.array(indices, dtype=int)"
   ]
  },
  {
   "cell_type": "code",
   "execution_count": 22,
   "metadata": {},
   "outputs": [
    {
     "data": {
      "text/plain": [
       "ArrayView([[0.],\n",
       "           [0.],\n",
       "           [0.],\n",
       "           ...,\n",
       "           [0.],\n",
       "           [0.],\n",
       "           [0.]])"
      ]
     },
     "execution_count": 22,
     "metadata": {},
     "output_type": "execute_result"
    }
   ],
   "source": [
    "pancreas[:,-1].layers[\"Mu\"]"
   ]
  },
  {
   "cell_type": "code",
   "execution_count": 23,
   "metadata": {},
   "outputs": [
    {
     "data": {
      "text/plain": [
       "AnnData object with n_obs × n_vars = 3696 × 2000\n",
       "    obs: 'clusters_coarse', 'clusters', 'S_score', 'G2M_score', 'n_counts'\n",
       "    uns: 'clusters_coarse_colors', 'clusters_colors', 'day_colors', 'neighbors', 'pca', 'bin_ranges', 'indices'\n",
       "    obsm: 'X_pca', 'X_umap'\n",
       "    layers: 'Mu', 'Ms', 'unspliced', 'spliced'"
      ]
     },
     "execution_count": 23,
     "metadata": {},
     "output_type": "execute_result"
    }
   ],
   "source": [
    "pancreas"
   ]
  },
  {
   "cell_type": "code",
   "execution_count": 24,
   "metadata": {},
   "outputs": [],
   "source": [
    "pancreas.write_h5ad(\"pancreas-gastr->pancr_transfer.h5ad\")"
   ]
  }
 ],
 "metadata": {
  "kernelspec": {
   "display_name": "DeepTrajectory",
   "language": "python",
   "name": "python3"
  },
  "language_info": {
   "codemirror_mode": {
    "name": "ipython",
    "version": 3
   },
   "file_extension": ".py",
   "mimetype": "text/x-python",
   "name": "python",
   "nbconvert_exporter": "python",
   "pygments_lexer": "ipython3",
   "version": "3.11.7"
  }
 },
 "nbformat": 4,
 "nbformat_minor": 2
}
