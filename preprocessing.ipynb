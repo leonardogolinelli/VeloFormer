{
 "cells": [
  {
   "cell_type": "code",
   "execution_count": 1,
   "metadata": {},
   "outputs": [],
   "source": [
    "import scanpy as sc\n",
    "import scvelo as scv\n",
    "import numpy as np\n",
    "from sklearn.neighbors import kneighbors_graph\n",
    "from scipy.sparse.csgraph import dijkstra\n",
    "import pickle"
   ]
  },
  {
   "cell_type": "markdown",
   "metadata": {},
   "source": [
    "# SEPARATE SMOOTHING"
   ]
  },
  {
   "cell_type": "code",
   "execution_count": null,
   "metadata": {},
   "outputs": [],
   "source": [
    "num_genes = 2000\n",
    "adata = scv.datasets.gastrulation_erythroid()\n",
    "stage_list = [\"E7.5\", \"E7.75\", \"E8.0\", \"E8.25\", \"E8.5\"]\n",
    "idxs = adata.obs[\"stage\"].isin(stage_list)\n",
    "adata = adata[idxs].copy()\n",
    "scv.pp.filter_and_normalize(adata, min_shared_counts=20, n_top_genes=num_genes)\n",
    "index_mapping = {index: i for i, index in enumerate(adata.obs.index)}\n",
    "adata.obs['numerical_index'] = adata.obs.index.map(index_mapping)\n",
    "adata.layers[\"Mu\"] = np.zeros_like(adata.layers[\"unspliced\"].toarray())\n",
    "adata.layers[\"Ms\"] = np.zeros_like(adata.layers[\"spliced\"].toarray())\n",
    "neighbors = 40\n",
    "indices = np.zeros((adata.shape[0], neighbors+1))\n",
    "\n",
    "neighbors_indices_dic = {}\n",
    "for stage in stage_list:\n",
    "    print(f\"Processing stage {stage}\")\n",
    "    adata_tmp = adata[adata.obs[\"stage\"] == stage].copy()\n",
    "    scv.pp.moments(adata_tmp, n_neighbors=200)\n",
    "    obs_idx = adata[adata.obs[\"stage\"] == stage].obs.index\n",
    "    num_idx = adata[adata.obs[\"stage\"] == stage].obs[\"numerical_index\"].values\n",
    "    adata.layers[\"Mu\"][num_idx] = adata_tmp[obs_idx].layers[\"Mu\"].copy()\n",
    "    adata.layers[\"Ms\"][num_idx] = adata_tmp[obs_idx].layers[\"Ms\"].copy()\n",
    "    # Use spliced matrix for Isomap embedding\n",
    "    u = adata_tmp.layers[\"unspliced\"].toarray()\n",
    "    s = adata_tmp.layers[\"spliced\"].toarray()\n",
    "    u_s = np.concatenate([u, s], axis=1)\n",
    "    # Step 1: Create a nearest-neighbor graph (Euclidean distances for the graph construction)\n",
    "    knn_graph = kneighbors_graph(u_s, n_neighbors=neighbors, mode='distance', include_self=False)\n",
    "\n",
    "    # Step 2: Compute the geodesic distances using Dijkstra's algorithm\n",
    "    # This returns the shortest paths between all pairs of points\n",
    "    geodesic_distances = dijkstra(csgraph=knn_graph, directed=False, return_predecessors=False)\n",
    "\n",
    "    # Step 3: Build the neighbor matrix\n",
    "    # For each cell, find its nearest neighbors based on geodesic distances\n",
    "    nearest_neighbors = []\n",
    "    for i in range(geodesic_distances.shape[0]):\n",
    "        sorted_indices = np.argsort(geodesic_distances[i])\n",
    "        nearest_neighbors.append(sorted_indices[:neighbors + 1])  # Include the cell itself\n",
    "\n",
    "    local_nearest_neighbor_matrix = np.array(nearest_neighbors)\n",
    "    \n",
    "    # Step 4: Map local indices to numerical indices\n",
    "    numerical_indices = adata_tmp.obs[\"numerical_index\"].values\n",
    "    nearest_neighbors_matrix = numerical_indices[local_nearest_neighbor_matrix]\n",
    "    \n",
    "    indices[num_idx,:] = nearest_neighbors_matrix\n",
    "\n",
    "adata.uns[\"indices\"] = np.array(indices, dtype=int)\n",
    "\n",
    "adata.write_h5ad(\"gastrulation_erythroid.h5ad\")"
   ]
  },
  {
   "cell_type": "markdown",
   "metadata": {},
   "source": [
    "# COMMON SMOOTHING"
   ]
  },
  {
   "cell_type": "code",
   "execution_count": 8,
   "metadata": {},
   "outputs": [
    {
     "name": "stdout",
     "output_type": "stream",
     "text": [
      "Filtered out 47468 genes that are detected 20 counts (shared).\n",
      "Normalized count data: X, spliced, unspliced.\n",
      "Extracted 2000 highly variable genes.\n",
      "Logarithmized X.\n",
      "computing neighbors\n"
     ]
    },
    {
     "name": "stderr",
     "output_type": "stream",
     "text": [
      "/mnt/data2/home/leonardo/miniconda3/envs/DeepTrajectory/lib/python3.11/site-packages/scvelo/preprocessing/utils.py:705: DeprecationWarning: `log1p` is deprecated since scVelo v0.3.0 and will be removed in a future version. Please use `log1p` from `scanpy.pp` instead.\n",
      "  log1p(adata)\n"
     ]
    },
    {
     "name": "stdout",
     "output_type": "stream",
     "text": [
      "    finished (0:00:10) --> added \n",
      "    'distances' and 'connectivities', weighted adjacency matrices (adata.obsp)\n",
      "computing moments based on connectivities\n",
      "    finished (0:00:08) --> added \n",
      "    'Ms' and 'Mu', moments of un/spliced abundances (adata.layers)\n",
      "Processing stage E7.5\n",
      "Processing stage E7.75\n",
      "Processing stage E8.0\n",
      "Processing stage E8.25\n",
      "Processing stage E8.5\n"
     ]
    }
   ],
   "source": [
    "num_genes = 2000\n",
    "adata = scv.datasets.gastrulation_erythroid()\n",
    "stage_list = [\"E7.5\", \"E7.75\", \"E8.0\", \"E8.25\", \"E8.5\"]\n",
    "idxs = adata.obs[\"stage\"].isin(stage_list)\n",
    "adata = adata[idxs].copy()\n",
    "scv.pp.filter_and_normalize(adata, min_shared_counts=20, n_top_genes=num_genes)\n",
    "scv.pp.moments(adata, n_neighbors=200)\n",
    "index_mapping = {index: i for i, index in enumerate(adata.obs.index)}\n",
    "adata.obs['numerical_index'] = adata.obs.index.map(index_mapping)\n",
    "neighbors = 40\n",
    "indices = np.zeros((adata.shape[0], neighbors+1))\n",
    "\n",
    "neighbors_indices_dic = {}\n",
    "for stage in stage_list:\n",
    "    print(f\"Processing stage {stage}\")\n",
    "    adata_tmp = adata[adata.obs[\"stage\"] == stage].copy()\n",
    "    obs_idx = adata[adata.obs[\"stage\"] == stage].obs.index\n",
    "    num_idx = adata[adata.obs[\"stage\"] == stage].obs[\"numerical_index\"].values\n",
    "    # Use spliced matrix for Isomap embedding\n",
    "    u = adata_tmp.layers[\"unspliced\"].toarray()\n",
    "    s = adata_tmp.layers[\"spliced\"].toarray()\n",
    "    u_s = np.concatenate([u, s], axis=1)\n",
    "    # Step 1: Create a nearest-neighbor graph (Euclidean distances for the graph construction)\n",
    "    knn_graph = kneighbors_graph(u_s, n_neighbors=neighbors, mode='distance', include_self=False)\n",
    "\n",
    "    # Step 2: Compute the geodesic distances using Dijkstra's algorithm\n",
    "    # This returns the shortest paths between all pairs of points\n",
    "    geodesic_distances = dijkstra(csgraph=knn_graph, directed=False, return_predecessors=False)\n",
    "\n",
    "    # Step 3: Build the neighbor matrix\n",
    "    # For each cell, find its nearest neighbors based on geodesic distances\n",
    "    nearest_neighbors = []\n",
    "    for i in range(geodesic_distances.shape[0]):\n",
    "        sorted_indices = np.argsort(geodesic_distances[i])\n",
    "        nearest_neighbors.append(sorted_indices[:neighbors + 1])  # Include the cell itself\n",
    "\n",
    "    local_nearest_neighbor_matrix = np.array(nearest_neighbors)\n",
    "    \n",
    "    # Step 4: Map local indices to numerical indices\n",
    "    numerical_indices = adata_tmp.obs[\"numerical_index\"].values\n",
    "    nearest_neighbors_matrix = numerical_indices[local_nearest_neighbor_matrix]\n",
    "    \n",
    "    indices[num_idx,:] = nearest_neighbors_matrix\n",
    "\n",
    "adata.uns[\"indices\"] = np.array(indices, dtype=int)\n",
    "\n",
    "adata.write_h5ad(\"gastrulation_erythroid_common_smoothing.h5ad\")"
   ]
  },
  {
   "cell_type": "code",
   "execution_count": 6,
   "metadata": {},
   "outputs": [
    {
     "data": {
      "text/plain": [
       "(9707, 41)"
      ]
     },
     "execution_count": 6,
     "metadata": {},
     "output_type": "execute_result"
    }
   ],
   "source": [
    "adata.uns[\"indices\"].shape"
   ]
  }
 ],
 "metadata": {
  "kernelspec": {
   "display_name": "DeepTrajectory",
   "language": "python",
   "name": "python3"
  },
  "language_info": {
   "codemirror_mode": {
    "name": "ipython",
    "version": 3
   },
   "file_extension": ".py",
   "mimetype": "text/x-python",
   "name": "python",
   "nbconvert_exporter": "python",
   "pygments_lexer": "ipython3",
   "version": "3.11.7"
  }
 },
 "nbformat": 4,
 "nbformat_minor": 2
}
