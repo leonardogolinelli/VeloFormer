{
 "cells": [
  {
   "cell_type": "code",
   "execution_count": 1,
   "metadata": {},
   "outputs": [],
   "source": [
    "import scanpy as sc\n",
    "import scvelo as scv\n",
    "import numpy as np\n",
    "from sklearn.neighbors import kneighbors_graph\n",
    "from scipy.sparse.csgraph import dijkstra\n",
    "import pickle\n",
    "from utils import color_keys"
   ]
  },
  {
   "cell_type": "markdown",
   "metadata": {},
   "source": [
    "# SEPARATE SMOOTHING"
   ]
  },
  {
   "cell_type": "code",
   "execution_count": 2,
   "metadata": {},
   "outputs": [],
   "source": [
    "gastrluation = scv.datasets.gastrulation_erythroid()\n",
    "pancreas = scv.datasets.pancreas()"
   ]
  },
  {
   "cell_type": "code",
   "execution_count": 3,
   "metadata": {},
   "outputs": [
    {
     "data": {
      "text/plain": [
       "AAAGATCTCTCGAA-gastrulation    Blood progenitors 2\n",
       "AATCTCACTGCTTT-gastrulation    Blood progenitors 2\n",
       "AATGGCTGAAGATG-gastrulation    Blood progenitors 2\n",
       "ACACATCTGTCAAC-gastrulation    Blood progenitors 2\n",
       "ACGACAACTGGAGG-gastrulation    Blood progenitors 2\n",
       "                                      ...         \n",
       "TTTGTCAAGTGACATA-pancreas            Pre-endocrine\n",
       "TTTGTCAAGTGTGGCA-pancreas             Ngn3 high EP\n",
       "TTTGTCAGTTGTTTGG-pancreas                   Ductal\n",
       "TTTGTCATCGAATGCT-pancreas                    Alpha\n",
       "TTTGTCATCTGTTTGT-pancreas                  Epsilon\n",
       "Name: combined_celltype, Length: 13511, dtype: object"
      ]
     },
     "execution_count": 3,
     "metadata": {},
     "output_type": "execute_result"
    }
   ],
   "source": [
    "import scvelo as scv\n",
    "\n",
    "# Load the datasets\n",
    "gastrulation = scv.datasets.gastrulation_erythroid()\n",
    "pancreas = scv.datasets.pancreas()\n",
    "\n",
    "# Find the common gene names\n",
    "common_genes = gastrulation.var_names.intersection(pancreas.var_names)\n",
    "\n",
    "# Filter both datasets to include only the common genes\n",
    "gastrulation_common = gastrulation[:, common_genes]\n",
    "pancreas_common = pancreas[:, common_genes]\n",
    "\n",
    "# Optionally concatenate the datasets along cells\n",
    "# Note: Ensure `obs` keys are consistent between datasets before concatenating.\n",
    "adata = gastrulation_common.concatenate(\n",
    "    pancreas_common,\n",
    "    batch_categories=[\"gastrulation\", \"pancreas\"]\n",
    ")\n",
    "\n",
    "# Add the new category to the 'stage' column\n",
    "adata.obs[\"stage\"] = adata.obs[\"stage\"].cat.add_categories(\"P_Day15\")\n",
    "\n",
    "# Now assign the new category\n",
    "adata.obs.loc[adata.obs[\"batch\"] == \"pancreas\", \"stage\"] = \"P_Day15\"\n",
    "# Create a new column 'combined_celltype' in the merged anndata\n",
    "adata.obs['combined_celltype'] = adata.obs['celltype'].astype(str)\n",
    "\n",
    "# Update the 'combined_celltype' column with the 'clusters' information for pancreas cells\n",
    "adata.obs.loc[adata.obs['batch'] == 'pancreas', 'combined_celltype'] = adata.obs.loc[adata.obs['batch'] == 'pancreas', 'clusters']\n",
    "\n",
    "# Verify the changes\n",
    "adata.obs['combined_celltype']\n"
   ]
  },
  {
   "cell_type": "code",
   "execution_count": 4,
   "metadata": {},
   "outputs": [
    {
     "name": "stdout",
     "output_type": "stream",
     "text": [
      "Filtered out 18360 genes that are detected 20 counts (shared).\n",
      "Normalized count data: X, spliced, unspliced.\n",
      "Extracted 2000 highly variable genes.\n",
      "Logarithmized X.\n"
     ]
    },
    {
     "name": "stderr",
     "output_type": "stream",
     "text": [
      "/mnt/data2/home/leonardo/miniconda3/envs/DeepTrajectory/lib/python3.11/site-packages/scvelo/preprocessing/utils.py:705: DeprecationWarning: `log1p` is deprecated since scVelo v0.3.0 and will be removed in a future version. Please use `log1p` from `scanpy.pp` instead.\n",
      "  log1p(adata)\n"
     ]
    },
    {
     "name": "stdout",
     "output_type": "stream",
     "text": [
      "Processing stage E7.5\n",
      "computing neighbors\n",
      "    finished (0:00:03) --> added \n",
      "    'distances' and 'connectivities', weighted adjacency matrices (adata.obsp)\n",
      "computing moments based on connectivities\n",
      "    finished (0:00:00) --> added \n",
      "    'Ms' and 'Mu', moments of un/spliced abundances (adata.layers)\n",
      "Processing stage E7.75\n",
      "computing neighbors\n",
      "    finished (0:00:00) --> added \n",
      "    'distances' and 'connectivities', weighted adjacency matrices (adata.obsp)\n",
      "computing moments based on connectivities\n",
      "    finished (0:00:00) --> added \n",
      "    'Ms' and 'Mu', moments of un/spliced abundances (adata.layers)\n",
      "Processing stage E8.0\n",
      "computing neighbors\n",
      "    finished (0:00:00) --> added \n",
      "    'distances' and 'connectivities', weighted adjacency matrices (adata.obsp)\n",
      "computing moments based on connectivities\n",
      "    finished (0:00:00) --> added \n",
      "    'Ms' and 'Mu', moments of un/spliced abundances (adata.layers)\n",
      "Processing stage E8.25\n",
      "computing neighbors\n",
      "    finished (0:00:00) --> added \n",
      "    'distances' and 'connectivities', weighted adjacency matrices (adata.obsp)\n",
      "computing moments based on connectivities\n",
      "    finished (0:00:00) --> added \n",
      "    'Ms' and 'Mu', moments of un/spliced abundances (adata.layers)\n",
      "Processing stage E8.5\n",
      "computing neighbors\n",
      "    finished (0:00:00) --> added \n",
      "    'distances' and 'connectivities', weighted adjacency matrices (adata.obsp)\n",
      "computing moments based on connectivities\n",
      "    finished (0:00:00) --> added \n",
      "    'Ms' and 'Mu', moments of un/spliced abundances (adata.layers)\n",
      "Processing stage P_Day15\n",
      "computing neighbors\n",
      "    finished (0:00:00) --> added \n",
      "    'distances' and 'connectivities', weighted adjacency matrices (adata.obsp)\n",
      "computing moments based on connectivities\n",
      "    finished (0:00:02) --> added \n",
      "    'Ms' and 'Mu', moments of un/spliced abundances (adata.layers)\n"
     ]
    }
   ],
   "source": [
    "num_genes = 2000\n",
    "stage_list = [\"E7.5\", \"E7.75\", \"E8.0\", \"E8.25\", \"E8.5\", \"P_Day15\"]\n",
    "idxs = adata.obs[\"stage\"].isin(stage_list)\n",
    "adata = adata[idxs].copy()\n",
    "adata = color_keys(adata, \"combined_celltype\")\n",
    "scv.pp.filter_and_normalize(adata, min_shared_counts=20, n_top_genes=num_genes)\n",
    "index_mapping = {index: i for i, index in enumerate(adata.obs.index)}\n",
    "adata.obs['numerical_index'] = adata.obs.index.map(index_mapping)\n",
    "adata.layers[\"Mu\"] = np.zeros_like(adata.layers[\"unspliced\"].toarray())\n",
    "adata.layers[\"Ms\"] = np.zeros_like(adata.layers[\"spliced\"].toarray())\n",
    "neighbors = 40\n",
    "indices = np.zeros((adata.shape[0], neighbors+1))\n",
    "\n",
    "neighbors_indices_dic = {}\n",
    "for stage in stage_list:\n",
    "    print(f\"Processing stage {stage}\")\n",
    "    adata_tmp = adata[adata.obs[\"stage\"] == stage].copy()\n",
    "    scv.pp.moments(adata_tmp, n_neighbors=200)\n",
    "    obs_idx = adata[adata.obs[\"stage\"] == stage].obs.index\n",
    "    num_idx = adata[adata.obs[\"stage\"] == stage].obs[\"numerical_index\"].values\n",
    "    adata.layers[\"Mu\"][num_idx] = adata_tmp[obs_idx].layers[\"Mu\"].copy()\n",
    "    adata.layers[\"Ms\"][num_idx] = adata_tmp[obs_idx].layers[\"Ms\"].copy()\n",
    "    # Use spliced matrix for Isomap embedding\n",
    "    u = adata_tmp.layers[\"unspliced\"].toarray()\n",
    "    s = adata_tmp.layers[\"spliced\"].toarray()\n",
    "    u_s = np.concatenate([u, s], axis=1)\n",
    "    # Step 1: Create a nearest-neighbor graph (Euclidean distances for the graph construction)\n",
    "    knn_graph = kneighbors_graph(u_s, n_neighbors=neighbors, mode='distance', include_self=False)\n",
    "\n",
    "    # Step 2: Compute the geodesic distances using Dijkstra's algorithm\n",
    "    # This returns the shortest paths between all pairs of points\n",
    "    geodesic_distances = dijkstra(csgraph=knn_graph, directed=False, return_predecessors=False)\n",
    "\n",
    "    # Step 3: Build the neighbor matrix\n",
    "    # For each cell, find its nearest neighbors based on geodesic distances\n",
    "    nearest_neighbors = []\n",
    "    for i in range(geodesic_distances.shape[0]):\n",
    "        sorted_indices = np.argsort(geodesic_distances[i])\n",
    "        nearest_neighbors.append(sorted_indices[:neighbors + 1])  # Include the cell itself\n",
    "\n",
    "    local_nearest_neighbor_matrix = np.array(nearest_neighbors)\n",
    "    \n",
    "    # Step 4: Map local indices to numerical indices\n",
    "    numerical_indices = adata_tmp.obs[\"numerical_index\"].values\n",
    "    nearest_neighbors_matrix = numerical_indices[local_nearest_neighbor_matrix]\n",
    "    \n",
    "    indices[num_idx,:] = nearest_neighbors_matrix\n",
    "\n",
    "adata.uns[\"indices\"] = np.array(indices, dtype=int)\n",
    "\n",
    "adata.write_h5ad(\"erythroid_pancreas.h5ad\")"
   ]
  },
  {
   "cell_type": "code",
   "execution_count": null,
   "metadata": {},
   "outputs": [],
   "source": []
  }
 ],
 "metadata": {
  "kernelspec": {
   "display_name": "DeepTrajectory",
   "language": "python",
   "name": "python3"
  },
  "language_info": {
   "codemirror_mode": {
    "name": "ipython",
    "version": 3
   },
   "file_extension": ".py",
   "mimetype": "text/x-python",
   "name": "python",
   "nbconvert_exporter": "python",
   "pygments_lexer": "ipython3",
   "version": "3.11.7"
  }
 },
 "nbformat": 4,
 "nbformat_minor": 2
}
