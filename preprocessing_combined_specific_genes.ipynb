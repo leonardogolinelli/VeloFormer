{
 "cells": [
  {
   "cell_type": "code",
   "execution_count": 1,
   "metadata": {},
   "outputs": [],
   "source": [
    "import scanpy as sc\n",
    "import scvelo as scv\n",
    "import numpy as np\n",
    "from sklearn.neighbors import kneighbors_graph\n",
    "from scipy.sparse.csgraph import dijkstra\n",
    "import pickle\n",
    "from utils import color_keys"
   ]
  },
  {
   "cell_type": "code",
   "execution_count": 2,
   "metadata": {},
   "outputs": [
    {
     "ename": "OSError",
     "evalue": "Unable to synchronously open file (truncated file: eof = 2967453696, sblock->base_addr = 0, stored_eof = 4690839537)",
     "output_type": "error",
     "traceback": [
      "\u001b[0;31m---------------------------------------------------------------------------\u001b[0m",
      "\u001b[0;31mOSError\u001b[0m                                   Traceback (most recent call last)",
      "Cell \u001b[0;32mIn[2], line 1\u001b[0m\n\u001b[0;32m----> 1\u001b[0m adata \u001b[38;5;241m=\u001b[39m scv\u001b[38;5;241m.\u001b[39mdatasets\u001b[38;5;241m.\u001b[39mgastrulation()\n\u001b[1;32m      2\u001b[0m adata\u001b[38;5;241m.\u001b[39mwrite_h5ad(\u001b[38;5;124m\"\u001b[39m\u001b[38;5;124mgastrulation_unprocessed.h5ad\u001b[39m\u001b[38;5;124m\"\u001b[39m)\n",
      "File \u001b[0;32m~/miniconda3/envs/DeepTrajectory/lib/python3.11/site-packages/scvelo/datasets/_datasets.py:194\u001b[0m, in \u001b[0;36mgastrulation\u001b[0;34m(file_path)\u001b[0m\n\u001b[1;32m    171\u001b[0m \u001b[38;5;250m\u001b[39m\u001b[38;5;124;03m\"\"\"Mouse gastrulation.\u001b[39;00m\n\u001b[1;32m    172\u001b[0m \n\u001b[1;32m    173\u001b[0m \u001b[38;5;124;03mData from `Pijuan-Sala et al. (2019) <https://doi.org/10.1038/s41586-019-0933-9>`__.\u001b[39;00m\n\u001b[0;32m   (...)\u001b[0m\n\u001b[1;32m    191\u001b[0m \u001b[38;5;124;03mReturns `adata` object\u001b[39;00m\n\u001b[1;32m    192\u001b[0m \u001b[38;5;124;03m\"\"\"\u001b[39;00m\n\u001b[1;32m    193\u001b[0m url \u001b[38;5;241m=\u001b[39m \u001b[38;5;124m\"\u001b[39m\u001b[38;5;124mhttps://ndownloader.figshare.com/files/28095525\u001b[39m\u001b[38;5;124m\"\u001b[39m\n\u001b[0;32m--> 194\u001b[0m adata \u001b[38;5;241m=\u001b[39m read(file_path, backup_url\u001b[38;5;241m=\u001b[39murl, sparse\u001b[38;5;241m=\u001b[39m\u001b[38;5;28;01mTrue\u001b[39;00m, cache\u001b[38;5;241m=\u001b[39m\u001b[38;5;28;01mTrue\u001b[39;00m)\n\u001b[1;32m    195\u001b[0m adata\u001b[38;5;241m.\u001b[39mvar_names_make_unique()\n\u001b[1;32m    196\u001b[0m \u001b[38;5;28;01mreturn\u001b[39;00m adata\n",
      "File \u001b[0;32m~/miniconda3/envs/DeepTrajectory/lib/python3.11/site-packages/scanpy/readwrite.py:111\u001b[0m, in \u001b[0;36mread\u001b[0;34m(filename, backed, sheet, ext, delimiter, first_column_names, backup_url, cache, cache_compression, **kwargs)\u001b[0m\n\u001b[1;32m    109\u001b[0m filename \u001b[38;5;241m=\u001b[39m Path(filename)  \u001b[38;5;66;03m# allow passing strings\u001b[39;00m\n\u001b[1;32m    110\u001b[0m \u001b[38;5;28;01mif\u001b[39;00m is_valid_filename(filename):\n\u001b[0;32m--> 111\u001b[0m     \u001b[38;5;28;01mreturn\u001b[39;00m _read(\n\u001b[1;32m    112\u001b[0m         filename,\n\u001b[1;32m    113\u001b[0m         backed\u001b[38;5;241m=\u001b[39mbacked,\n\u001b[1;32m    114\u001b[0m         sheet\u001b[38;5;241m=\u001b[39msheet,\n\u001b[1;32m    115\u001b[0m         ext\u001b[38;5;241m=\u001b[39mext,\n\u001b[1;32m    116\u001b[0m         delimiter\u001b[38;5;241m=\u001b[39mdelimiter,\n\u001b[1;32m    117\u001b[0m         first_column_names\u001b[38;5;241m=\u001b[39mfirst_column_names,\n\u001b[1;32m    118\u001b[0m         backup_url\u001b[38;5;241m=\u001b[39mbackup_url,\n\u001b[1;32m    119\u001b[0m         cache\u001b[38;5;241m=\u001b[39mcache,\n\u001b[1;32m    120\u001b[0m         cache_compression\u001b[38;5;241m=\u001b[39mcache_compression,\n\u001b[1;32m    121\u001b[0m         \u001b[38;5;241m*\u001b[39m\u001b[38;5;241m*\u001b[39mkwargs,\n\u001b[1;32m    122\u001b[0m     )\n\u001b[1;32m    123\u001b[0m \u001b[38;5;66;03m# generate filename and read to dict\u001b[39;00m\n\u001b[1;32m    124\u001b[0m filekey \u001b[38;5;241m=\u001b[39m \u001b[38;5;28mstr\u001b[39m(filename)\n",
      "File \u001b[0;32m~/miniconda3/envs/DeepTrajectory/lib/python3.11/site-packages/scanpy/readwrite.py:721\u001b[0m, in \u001b[0;36m_read\u001b[0;34m(filename, backed, sheet, ext, delimiter, first_column_names, backup_url, cache, cache_compression, suppress_cache_warning, **kwargs)\u001b[0m\n\u001b[1;32m    719\u001b[0m \u001b[38;5;28;01mif\u001b[39;00m ext \u001b[38;5;129;01min\u001b[39;00m {\u001b[38;5;124m'\u001b[39m\u001b[38;5;124mh5\u001b[39m\u001b[38;5;124m'\u001b[39m, \u001b[38;5;124m'\u001b[39m\u001b[38;5;124mh5ad\u001b[39m\u001b[38;5;124m'\u001b[39m}:\n\u001b[1;32m    720\u001b[0m     \u001b[38;5;28;01mif\u001b[39;00m sheet \u001b[38;5;129;01mis\u001b[39;00m \u001b[38;5;28;01mNone\u001b[39;00m:\n\u001b[0;32m--> 721\u001b[0m         \u001b[38;5;28;01mreturn\u001b[39;00m read_h5ad(filename, backed\u001b[38;5;241m=\u001b[39mbacked)\n\u001b[1;32m    722\u001b[0m     \u001b[38;5;28;01melse\u001b[39;00m:\n\u001b[1;32m    723\u001b[0m         logg\u001b[38;5;241m.\u001b[39mdebug(\u001b[38;5;124mf\u001b[39m\u001b[38;5;124m'\u001b[39m\u001b[38;5;124mreading sheet \u001b[39m\u001b[38;5;132;01m{\u001b[39;00msheet\u001b[38;5;132;01m}\u001b[39;00m\u001b[38;5;124m from file \u001b[39m\u001b[38;5;132;01m{\u001b[39;00mfilename\u001b[38;5;132;01m}\u001b[39;00m\u001b[38;5;124m'\u001b[39m)\n",
      "File \u001b[0;32m~/miniconda3/envs/DeepTrajectory/lib/python3.11/site-packages/anndata/__init__.py:56\u001b[0m, in \u001b[0;36mread\u001b[0;34m(*args, **kwargs)\u001b[0m\n\u001b[1;32m     49\u001b[0m \u001b[38;5;28;01mimport\u001b[39;00m \u001b[38;5;21;01mwarnings\u001b[39;00m\n\u001b[1;32m     51\u001b[0m warnings\u001b[38;5;241m.\u001b[39mwarn(\n\u001b[1;32m     52\u001b[0m     \u001b[38;5;124m\"\u001b[39m\u001b[38;5;124m`anndata.read` is deprecated, use `anndata.read_h5ad` instead. \u001b[39m\u001b[38;5;124m\"\u001b[39m\n\u001b[1;32m     53\u001b[0m     \u001b[38;5;124m\"\u001b[39m\u001b[38;5;124m`ad.read` will be removed in mid 2024.\u001b[39m\u001b[38;5;124m\"\u001b[39m,\n\u001b[1;32m     54\u001b[0m     \u001b[38;5;167;01mFutureWarning\u001b[39;00m,\n\u001b[1;32m     55\u001b[0m )\n\u001b[0;32m---> 56\u001b[0m \u001b[38;5;28;01mreturn\u001b[39;00m read_h5ad(\u001b[38;5;241m*\u001b[39margs, \u001b[38;5;241m*\u001b[39m\u001b[38;5;241m*\u001b[39mkwargs)\n",
      "File \u001b[0;32m~/miniconda3/envs/DeepTrajectory/lib/python3.11/site-packages/anndata/_io/h5ad.py:237\u001b[0m, in \u001b[0;36mread_h5ad\u001b[0;34m(filename, backed, as_sparse, as_sparse_fmt, chunk_size)\u001b[0m\n\u001b[1;32m    229\u001b[0m         \u001b[38;5;28;01mraise\u001b[39;00m \u001b[38;5;167;01mNotImplementedError\u001b[39;00m(\n\u001b[1;32m    230\u001b[0m             \u001b[38;5;124m\"\u001b[39m\u001b[38;5;124mCurrently only `X` and `raw/X` can be read as sparse.\u001b[39m\u001b[38;5;124m\"\u001b[39m\n\u001b[1;32m    231\u001b[0m         )\n\u001b[1;32m    233\u001b[0m rdasp \u001b[38;5;241m=\u001b[39m partial(\n\u001b[1;32m    234\u001b[0m     read_dense_as_sparse, sparse_format\u001b[38;5;241m=\u001b[39mas_sparse_fmt, axis_chunk\u001b[38;5;241m=\u001b[39mchunk_size\n\u001b[1;32m    235\u001b[0m )\n\u001b[0;32m--> 237\u001b[0m \u001b[38;5;28;01mwith\u001b[39;00m h5py\u001b[38;5;241m.\u001b[39mFile(filename, \u001b[38;5;124m\"\u001b[39m\u001b[38;5;124mr\u001b[39m\u001b[38;5;124m\"\u001b[39m) \u001b[38;5;28;01mas\u001b[39;00m f:\n\u001b[1;32m    239\u001b[0m     \u001b[38;5;28;01mdef\u001b[39;00m \u001b[38;5;21mcallback\u001b[39m(func, elem_name: \u001b[38;5;28mstr\u001b[39m, elem, iospec):\n\u001b[1;32m    240\u001b[0m         \u001b[38;5;28;01mif\u001b[39;00m iospec\u001b[38;5;241m.\u001b[39mencoding_type \u001b[38;5;241m==\u001b[39m \u001b[38;5;124m\"\u001b[39m\u001b[38;5;124manndata\u001b[39m\u001b[38;5;124m\"\u001b[39m \u001b[38;5;129;01mor\u001b[39;00m elem_name\u001b[38;5;241m.\u001b[39mendswith(\u001b[38;5;124m\"\u001b[39m\u001b[38;5;124m/\u001b[39m\u001b[38;5;124m\"\u001b[39m):\n",
      "File \u001b[0;32m~/miniconda3/envs/DeepTrajectory/lib/python3.11/site-packages/h5py/_hl/files.py:562\u001b[0m, in \u001b[0;36mFile.__init__\u001b[0;34m(self, name, mode, driver, libver, userblock_size, swmr, rdcc_nslots, rdcc_nbytes, rdcc_w0, track_order, fs_strategy, fs_persist, fs_threshold, fs_page_size, page_buf_size, min_meta_keep, min_raw_keep, locking, alignment_threshold, alignment_interval, meta_block_size, **kwds)\u001b[0m\n\u001b[1;32m    553\u001b[0m     fapl \u001b[38;5;241m=\u001b[39m make_fapl(driver, libver, rdcc_nslots, rdcc_nbytes, rdcc_w0,\n\u001b[1;32m    554\u001b[0m                      locking, page_buf_size, min_meta_keep, min_raw_keep,\n\u001b[1;32m    555\u001b[0m                      alignment_threshold\u001b[38;5;241m=\u001b[39malignment_threshold,\n\u001b[1;32m    556\u001b[0m                      alignment_interval\u001b[38;5;241m=\u001b[39malignment_interval,\n\u001b[1;32m    557\u001b[0m                      meta_block_size\u001b[38;5;241m=\u001b[39mmeta_block_size,\n\u001b[1;32m    558\u001b[0m                      \u001b[38;5;241m*\u001b[39m\u001b[38;5;241m*\u001b[39mkwds)\n\u001b[1;32m    559\u001b[0m     fcpl \u001b[38;5;241m=\u001b[39m make_fcpl(track_order\u001b[38;5;241m=\u001b[39mtrack_order, fs_strategy\u001b[38;5;241m=\u001b[39mfs_strategy,\n\u001b[1;32m    560\u001b[0m                      fs_persist\u001b[38;5;241m=\u001b[39mfs_persist, fs_threshold\u001b[38;5;241m=\u001b[39mfs_threshold,\n\u001b[1;32m    561\u001b[0m                      fs_page_size\u001b[38;5;241m=\u001b[39mfs_page_size)\n\u001b[0;32m--> 562\u001b[0m     fid \u001b[38;5;241m=\u001b[39m make_fid(name, mode, userblock_size, fapl, fcpl, swmr\u001b[38;5;241m=\u001b[39mswmr)\n\u001b[1;32m    564\u001b[0m \u001b[38;5;28;01mif\u001b[39;00m \u001b[38;5;28misinstance\u001b[39m(libver, \u001b[38;5;28mtuple\u001b[39m):\n\u001b[1;32m    565\u001b[0m     \u001b[38;5;28mself\u001b[39m\u001b[38;5;241m.\u001b[39m_libver \u001b[38;5;241m=\u001b[39m libver\n",
      "File \u001b[0;32m~/miniconda3/envs/DeepTrajectory/lib/python3.11/site-packages/h5py/_hl/files.py:235\u001b[0m, in \u001b[0;36mmake_fid\u001b[0;34m(name, mode, userblock_size, fapl, fcpl, swmr)\u001b[0m\n\u001b[1;32m    233\u001b[0m     \u001b[38;5;28;01mif\u001b[39;00m swmr \u001b[38;5;129;01mand\u001b[39;00m swmr_support:\n\u001b[1;32m    234\u001b[0m         flags \u001b[38;5;241m|\u001b[39m\u001b[38;5;241m=\u001b[39m h5f\u001b[38;5;241m.\u001b[39mACC_SWMR_READ\n\u001b[0;32m--> 235\u001b[0m     fid \u001b[38;5;241m=\u001b[39m h5f\u001b[38;5;241m.\u001b[39mopen(name, flags, fapl\u001b[38;5;241m=\u001b[39mfapl)\n\u001b[1;32m    236\u001b[0m \u001b[38;5;28;01melif\u001b[39;00m mode \u001b[38;5;241m==\u001b[39m \u001b[38;5;124m'\u001b[39m\u001b[38;5;124mr+\u001b[39m\u001b[38;5;124m'\u001b[39m:\n\u001b[1;32m    237\u001b[0m     fid \u001b[38;5;241m=\u001b[39m h5f\u001b[38;5;241m.\u001b[39mopen(name, h5f\u001b[38;5;241m.\u001b[39mACC_RDWR, fapl\u001b[38;5;241m=\u001b[39mfapl)\n",
      "File \u001b[0;32mh5py/_objects.pyx:54\u001b[0m, in \u001b[0;36mh5py._objects.with_phil.wrapper\u001b[0;34m()\u001b[0m\n",
      "File \u001b[0;32mh5py/_objects.pyx:55\u001b[0m, in \u001b[0;36mh5py._objects.with_phil.wrapper\u001b[0;34m()\u001b[0m\n",
      "File \u001b[0;32mh5py/h5f.pyx:102\u001b[0m, in \u001b[0;36mh5py.h5f.open\u001b[0;34m()\u001b[0m\n",
      "\u001b[0;31mOSError\u001b[0m: Unable to synchronously open file (truncated file: eof = 2967453696, sblock->base_addr = 0, stored_eof = 4690839537)"
     ]
    }
   ],
   "source": [
    "adata = scv.datasets.gastrulation()\n",
    "adata.write_h5ad(\"gastrulation_unprocessed.h5ad\")"
   ]
  },
  {
   "cell_type": "markdown",
   "metadata": {},
   "source": [
    "# SEPARATE SMOOTHING"
   ]
  },
  {
   "cell_type": "code",
   "execution_count": 3,
   "metadata": {},
   "outputs": [],
   "source": [
    "gastrluation = scv.datasets.gastrulation_erythroid()\n",
    "pancreas = scv.datasets.pancreas()"
   ]
  },
  {
   "cell_type": "code",
   "execution_count": 4,
   "metadata": {},
   "outputs": [
    {
     "data": {
      "text/plain": [
       "AAAGATCTCTCGAA-gastrulation    Blood progenitors 2\n",
       "AATCTCACTGCTTT-gastrulation    Blood progenitors 2\n",
       "AATGGCTGAAGATG-gastrulation    Blood progenitors 2\n",
       "ACACATCTGTCAAC-gastrulation    Blood progenitors 2\n",
       "ACGACAACTGGAGG-gastrulation    Blood progenitors 2\n",
       "                                      ...         \n",
       "TTTGTCAAGTGACATA-pancreas            Pre-endocrine\n",
       "TTTGTCAAGTGTGGCA-pancreas             Ngn3 high EP\n",
       "TTTGTCAGTTGTTTGG-pancreas                   Ductal\n",
       "TTTGTCATCGAATGCT-pancreas                    Alpha\n",
       "TTTGTCATCTGTTTGT-pancreas                  Epsilon\n",
       "Name: combined_celltype, Length: 13511, dtype: object"
      ]
     },
     "execution_count": 4,
     "metadata": {},
     "output_type": "execute_result"
    }
   ],
   "source": [
    "import scvelo as scv\n",
    "\n",
    "# Load the datasets\n",
    "gastrulation = scv.datasets.gastrulation_erythroid()\n",
    "pancreas = scv.datasets.pancreas()\n",
    "\n",
    "# Find the common gene names\n",
    "common_genes = gastrulation.var_names.intersection(pancreas.var_names)\n",
    "\n",
    "# Filter both datasets to include only the common genes\n",
    "gastrulation_common = gastrulation[:, common_genes]\n",
    "pancreas_common = pancreas[:, common_genes]\n",
    "\n",
    "# Optionally concatenate the datasets along cells\n",
    "# Note: Ensure `obs` keys are consistent between datasets before concatenating.\n",
    "adata = gastrulation_common.concatenate(\n",
    "    pancreas_common,\n",
    "    batch_categories=[\"gastrulation\", \"pancreas\"]\n",
    ")\n",
    "\n",
    "# Add the new category to the 'stage' column\n",
    "adata.obs[\"stage\"] = adata.obs[\"stage\"].cat.add_categories(\"P_Day15\")\n",
    "\n",
    "# Now assign the new category\n",
    "adata.obs.loc[adata.obs[\"batch\"] == \"pancreas\", \"stage\"] = \"P_Day15\"\n",
    "# Create a new column 'combined_celltype' in the merged anndata\n",
    "adata.obs['combined_celltype'] = adata.obs['celltype'].astype(str)\n",
    "\n",
    "# Update the 'combined_celltype' column with the 'clusters' information for pancreas cells\n",
    "adata.obs.loc[adata.obs['batch'] == 'pancreas', 'combined_celltype'] = adata.obs.loc[adata.obs['batch'] == 'pancreas', 'clusters']\n",
    "\n",
    "# Verify the changes\n",
    "adata.obs['combined_celltype']"
   ]
  },
  {
   "cell_type": "code",
   "execution_count": 5,
   "metadata": {},
   "outputs": [
    {
     "name": "stdout",
     "output_type": "stream",
     "text": [
      "Index(['Xkr4', 'Gm37381', 'Rp1', 'Sox17', 'Gm37323', 'Mrpl15', 'Rgs20',\n",
      "       'Npbwr1', '4732440D04Rik', 'Gm26901',\n",
      "       ...\n",
      "       'Gm28405', 'Gm28406', 'Gm29436', 'Gm28407', 'Gm29393', 'Gm21294',\n",
      "       'Gm28672', 'Gm28670', 'Gm29504', 'Gm20837'],\n",
      "      dtype='object', name='index', length=26868)\n",
      "Index(['Xkr4', 'Gm37381', 'Rp1', 'Sox17', 'Gm37323', 'Mrpl15', 'Rgs20',\n",
      "       'Npbwr1', '4732440D04Rik', 'Gm26901',\n",
      "       ...\n",
      "       'Gm28405', 'Gm28406', 'Gm29436', 'Gm28407', 'Gm29393', 'Gm21294',\n",
      "       'Gm28672', 'Gm28670', 'Gm29504', 'Gm20837'],\n",
      "      dtype='object', name='index', length=26868)\n"
     ]
    }
   ],
   "source": [
    "print(gastrulation_common.var_names)\n",
    "print(pancreas_common.var_names)\n",
    "\n"
   ]
  },
  {
   "cell_type": "code",
   "execution_count": null,
   "metadata": {},
   "outputs": [],
   "source": [
    "num_genes = 3000\n",
    "stage_list = [\"E7.5\", \"E7.75\", \"E8.0\", \"E8.25\", \"E8.5\", \"P_Day15\"]\n",
    "idxs = adata.obs[\"stage\"].isin(stage_list)\n",
    "adata = adata[idxs].copy()\n",
    "adata = color_keys(adata, \"combined_celltype\")\n",
    "scv.pp.filter_and_normalize(adata, min_shared_counts=20, n_top_genes=num_genes)\n",
    "index_mapping = {index: i for i, index in enumerate(adata.obs.index)}\n",
    "adata.obs['numerical_index'] = adata.obs.index.map(index_mapping)\n",
    "adata.layers[\"Mu\"] = np.zeros_like(adata.layers[\"unspliced\"].toarray())\n",
    "adata.layers[\"Ms\"] = np.zeros_like(adata.layers[\"spliced\"].toarray())\n",
    "neighbors = 40\n",
    "indices = np.zeros((adata.shape[0], neighbors+1))\n",
    "\n",
    "neighbors_indices_dic = {}\n",
    "for stage in stage_list:\n",
    "    print(f\"Processing stage {stage}\")\n",
    "    adata_tmp = adata[adata.obs[\"stage\"] == stage].copy()\n",
    "    scv.pp.moments(adata_tmp, n_neighbors=200)\n",
    "    obs_idx = adata[adata.obs[\"stage\"] == stage].obs.index\n",
    "    num_idx = adata[adata.obs[\"stage\"] == stage].obs[\"numerical_index\"].values\n",
    "    adata.layers[\"Mu\"][num_idx] = adata_tmp[obs_idx].layers[\"Mu\"].copy()\n",
    "    adata.layers[\"Ms\"][num_idx] = adata_tmp[obs_idx].layers[\"Ms\"].copy()\n",
    "    # Use spliced matrix for Isomap embedding\n",
    "    u = adata_tmp.layers[\"unspliced\"].toarray()\n",
    "    s = adata_tmp.layers[\"spliced\"].toarray()\n",
    "    u_s = np.concatenate([u, s], axis=1)\n",
    "    # Step 1: Create a nearest-neighbor graph (Euclidean distances for the graph construction)\n",
    "    knn_graph = kneighbors_graph(u_s, n_neighbors=neighbors, mode='distance', include_self=False)\n",
    "\n",
    "    # Step 2: Compute the geodesic distances using Dijkstra's algorithm\n",
    "    # This returns the shortest paths between all pairs of points\n",
    "    geodesic_distances = dijkstra(csgraph=knn_graph, directed=False, return_predecessors=False)\n",
    "\n",
    "    # Step 3: Build the neighbor matrix\n",
    "    # For each cell, find its nearest neighbors based on geodesic distances\n",
    "    nearest_neighbors = []\n",
    "    for i in range(geodesic_distances.shape[0]):\n",
    "        sorted_indices = np.argsort(geodesic_distances[i])\n",
    "        nearest_neighbors.append(sorted_indices[:neighbors + 1])  # Include the cell itself\n",
    "\n",
    "    local_nearest_neighbor_matrix = np.array(nearest_neighbors)\n",
    "    \n",
    "    # Step 4: Map local indices to numerical indices\n",
    "    numerical_indices = adata_tmp.obs[\"numerical_index\"].values\n",
    "    nearest_neighbors_matrix = numerical_indices[local_nearest_neighbor_matrix]\n",
    "    \n",
    "    indices[num_idx,:] = nearest_neighbors_matrix\n",
    "\n",
    "adata.uns[\"indices\"] = np.array(indices, dtype=int)\n",
    "\n",
    "adata.write_h5ad(\"erythroid_pancreas_3k.h5ad\")"
   ]
  },
  {
   "cell_type": "code",
   "execution_count": null,
   "metadata": {},
   "outputs": [],
   "source": []
  }
 ],
 "metadata": {
  "kernelspec": {
   "display_name": "DeepTrajectory",
   "language": "python",
   "name": "python3"
  },
  "language_info": {
   "codemirror_mode": {
    "name": "ipython",
    "version": 3
   },
   "file_extension": ".py",
   "mimetype": "text/x-python",
   "name": "python",
   "nbconvert_exporter": "python",
   "pygments_lexer": "ipython3",
   "version": "3.11.7"
  }
 },
 "nbformat": 4,
 "nbformat_minor": 2
}
