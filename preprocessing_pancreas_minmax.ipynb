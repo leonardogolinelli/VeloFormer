{
 "cells": [
  {
   "cell_type": "code",
   "execution_count": 1,
   "metadata": {},
   "outputs": [],
   "source": [
    "import scanpy as sc\n",
    "import scvelo as scv\n",
    "import numpy as np\n",
    "from utils import color_keys\n",
    "from sklearn.neighbors import kneighbors_graph\n",
    "from scipy.sparse.csgraph import dijkstra"
   ]
  },
  {
   "cell_type": "code",
   "execution_count": 2,
   "metadata": {},
   "outputs": [],
   "source": [
    "# Function to min-max normalize columns of a matrix\n",
    "def min_max_normalize_columns(matrix):\n",
    "    # Calculate min and max for each column\n",
    "    min_vals = np.min(matrix, axis=0)\n",
    "    max_vals = np.max(matrix, axis=0)\n",
    "    # Avoid division by zero for columns with constant values\n",
    "    range_vals = max_vals - min_vals\n",
    "    range_vals[range_vals == 0] = 1\n",
    "    # Normalize each column\n",
    "    normalized_matrix = (matrix - min_vals) / range_vals\n",
    "    return normalized_matrix"
   ]
  },
  {
   "cell_type": "code",
   "execution_count": 3,
   "metadata": {},
   "outputs": [
    {
     "name": "stdout",
     "output_type": "stream",
     "text": [
      "Filtered out 20801 genes that are detected 20 counts (shared).\n",
      "Normalized count data: X, spliced, unspliced.\n",
      "Extracted 2000 highly variable genes.\n",
      "Logarithmized X.\n",
      "computing neighbors\n"
     ]
    },
    {
     "name": "stderr",
     "output_type": "stream",
     "text": [
      "/mnt/data2/home/leonardo/miniconda3/envs/DeepTrajectory/lib/python3.11/site-packages/scvelo/preprocessing/utils.py:705: DeprecationWarning: `log1p` is deprecated since scVelo v0.3.0 and will be removed in a future version. Please use `log1p` from `scanpy.pp` instead.\n",
      "  log1p(adata)\n"
     ]
    },
    {
     "name": "stdout",
     "output_type": "stream",
     "text": [
      "    finished (0:00:04) --> added \n",
      "    'distances' and 'connectivities', weighted adjacency matrices (adata.obsp)\n",
      "computing moments based on connectivities\n",
      "    finished (0:00:02) --> added \n",
      "    'Ms' and 'Mu', moments of un/spliced abundances (adata.layers)\n"
     ]
    }
   ],
   "source": [
    "adata = scv.datasets.pancreas()\n",
    "scv.pp.filter_and_normalize(adata, min_shared_counts=20, n_top_genes=2000)\n",
    "scv.pp.moments(adata, n_neighbors=200)\n",
    "adata.obsm[\"old_umap\"] = adata.obsm[\"X_umap\"].copy()\n",
    "\n",
    "# Apply min-max normalization to adata.layers[\"Mu\"] columns\n",
    "adata.layers[\"Mu\"] = min_max_normalize_columns(adata.layers[\"Mu\"])\n",
    "\n",
    "# Apply min-max normalization to adata.layers[\"Ms\"] columns\n",
    "adata.layers[\"Ms\"] = min_max_normalize_columns(adata.layers[\"Ms\"])\n",
    "\n",
    "Mu_Ms = np.concatenate([adata.layers[\"Mu\"], adata.layers[\"Ms\"]], axis=1)\n",
    "adata.obsm[\"Mu_Ms\"] = Mu_Ms\n",
    "\n",
    "\"\"\"sc.pp.neighbors(adata, use_rep=\"Mu_Ms\")\n",
    "sc.tl.umap(adata)\n",
    "sc.pl.umap(adata, color=\"clusters\")\"\"\"\n",
    "\n",
    "cell_type_key = \"clusters\"\n",
    "adata = color_keys(adata, cell_type_key)\n",
    "neighbors = 15\n",
    "indices = np.zeros((adata.shape[0], neighbors+1))\n",
    "\n",
    "u = adata.layers[\"unspliced\"].toarray()\n",
    "s = adata.layers[\"spliced\"].toarray()\n",
    "u_s = np.concatenate([u, s], axis=1)\n",
    "# Step 1: Create a nearest-neighbor graph (Euclidean distances for the graph construction)\n",
    "knn_graph = kneighbors_graph(u_s, n_neighbors=neighbors, mode='distance', include_self=False)\n",
    "\n",
    "# Step 2: Compute the geodesic distances using Dijkstra's algorithm\n",
    "# This returns the shortest paths between all pairs of points\n",
    "geodesic_distances = dijkstra(csgraph=knn_graph, directed=False, return_predecessors=False)\n",
    "\n",
    "# Step 3: Build the neighbor matrix\n",
    "# For each cell, find its nearest neighbors based on geodesic distances\n",
    "nearest_neighbors = []\n",
    "for i in range(geodesic_distances.shape[0]):\n",
    "    sorted_indices = np.argsort(geodesic_distances[i])\n",
    "    nearest_neighbors.append(sorted_indices[:neighbors + 1])  # Include the cell itself\n",
    "\n",
    "local_nearest_neighbor_matrix = np.array(nearest_neighbors)\n",
    "\n",
    "adata.uns[\"indices\"] = local_nearest_neighbor_matrix\n",
    "\n",
    "adata.write(\"pancreas_common_smoothing_minmax/pancreas_minmax.h5ad\")\n"
   ]
  }
 ],
 "metadata": {
  "kernelspec": {
   "display_name": "DeepTrajectory",
   "language": "python",
   "name": "python3"
  },
  "language_info": {
   "codemirror_mode": {
    "name": "ipython",
    "version": 3
   },
   "file_extension": ".py",
   "mimetype": "text/x-python",
   "name": "python",
   "nbconvert_exporter": "python",
   "pygments_lexer": "ipython3",
   "version": "3.11.7"
  }
 },
 "nbformat": 4,
 "nbformat_minor": 2
}
